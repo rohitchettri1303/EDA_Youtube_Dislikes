{
 "cells": [
  {
   "cell_type": "markdown",
   "id": "9831ad5e",
   "metadata": {
    "ExecuteTime": {
     "end_time": "2023-11-09T07:33:33.256896Z",
     "start_time": "2023-11-09T07:33:25.982985Z"
    }
   },
   "source": [
    "<h1><span style=\" font-family: 'Times New Roman', Times, serif;\"> <center><b><font color= \"Red\">***Exploratory Data Analysis on YouTube data***</b></font> </h1></span> "
   ]
  },
  {
   "cell_type": "markdown",
   "id": "06474ebc",
   "metadata": {
    "ExecuteTime": {
     "end_time": "2023-11-10T06:27:29.046142Z",
     "start_time": "2023-11-10T06:27:29.032433Z"
    }
   },
   "source": [
    "# <span style=\" font-family: 'Times New Roman', Times, serif;\">Exploratory Data Analysis on YouTube Dislikes Dataset</span>\n",
    "\n",
    "## <span style=\" font-family: 'Times New Roman', Times, serif;\">Domain: <font color=\"BLUE\">Social Media </font></span> \n",
    "\n",
    "## <span style=\" font-family: 'Times New Roman', Times, serif;\">Context and Content:</span>\n",
    "In a fairly recent move by Youtube, it announced the decision to hide the number of dislikes from users around November 2021. However, the official YouTube Data API allowed you to get information about dislikes until December 13, 2021. Doing an EDA-exercise can help to draw some unseen insights from this dataset.\n",
    "\n",
    "## <span style=\" font-family: 'Times New Roman', Times, serif;\">Learning Outcome:</span>\n",
    "- Exploratory Data Analysis using Pandas.\n",
    "\n",
    "## <span style=\" font-family: 'Times New Roman', Times, serif;\">Objective:</span>\n",
    "To do data analysis and explore the YouTube dislikes dataset using numpy and pandas libraries and drive meaningful insights by performing Exploratory data analysis.\n",
    "\n",
    "## <span style=\" font-family: 'Times New Roman', Times, serif;\">Data Description:</span>\n",
    "**<span style=\" font-family: 'Times New Roman', Times, serif;\">YouTube Dislikes Dataset:</span>**\n",
    "- This dataset contains information about trending YouTube videos from August 2020 to December 2021 for the USA, Canada, and Great Britain.\n",
    "- This dataset contains the latest possible information about dislikes, likes, views, and more which was collected just before December 13. The information was collected by videos that had been trending in the USA, Canada, and Great Britain for a year prior.\n",
    "- Dataset link: <a href=\"https://www.kaggle.com/datasets/dmitrynikolaev/youtube-dislikes-dataset\" target=\"_blank\"><span style=\"color:blue; font-family: 'Times New Roman', Times, serif;\">YouTube Dislikes Dataset</span></a>\n",
    "\n",
    "\n",
    "# <span style=\" font-family: 'Times New Roman', Times, serif;\">Attribute <span style=\" font-family: 'Times New Roman', Times, serif;\">Information:\n",
    "\n",
    "| SL.No | Column Name       | Description                                 |\n",
    "|-------|-------------------|---------------------------------------------|\n",
    "| 1     | Video ID          | Unique video id.                            |\n",
    "| 2     | Title Video       | Video title.                                |\n",
    "| 3     | Channel ID        | Id of the channel.                          |\n",
    "| 4     | Channel Title     | Title of the channel.                       |\n",
    "| 5     | Published at      | Video publication date.                    |\n",
    "| 6     | View count         | Number of views.                            |\n",
    "| 7     | Likes              | Number of likes.                            |\n",
    "| 8     | Dislikes           | Number of dislikes.                         |\n",
    "| 9     | Comment Count      | Number of comments.                         |\n",
    "| 10    | Tags               | Tags (in one string).                       |\n",
    "| 11    | Description        | Video description.                         |\n",
    "| 12    | Comments           |   20 Video comments (in one string).         |\n",
    "\n",
    "\n",
    "\n"
   ]
  },
  {
   "cell_type": "markdown",
   "id": "5f30a158",
   "metadata": {},
   "source": [
    "    \n",
    "# <span style=\" font-family: 'Times New Roman', Times, serif;\"> ANALYSIS  "
   ]
  },
  {
   "cell_type": "markdown",
   "id": "1a286423",
   "metadata": {},
   "source": [
    "# <span style=\" font-family: 'Times New Roman', Times, serif;\"> 1. Import required libraries and read the provided dataset (youtube_dislike_dataset.csv) and retrieve top 5 and bottom 5 records.\n",
    "    \n",
    "    "
   ]
  },
  {
   "cell_type": "code",
   "execution_count": 1,
   "id": "997028b6",
   "metadata": {
    "ExecuteTime": {
     "end_time": "2023-11-10T12:48:09.035532Z",
     "start_time": "2023-11-10T12:48:02.087137Z"
    }
   },
   "outputs": [],
   "source": [
    "#Importing Pandas library\n",
    "import pandas as pd \n",
    "import numpy as np\n",
    "import os \n",
    "import matplotlib.pyplot as plt\n",
    "import seaborn as sns"
   ]
  },
  {
   "cell_type": "code",
   "execution_count": 2,
   "id": "d3355da1",
   "metadata": {
    "ExecuteTime": {
     "end_time": "2023-11-10T12:48:11.413838Z",
     "start_time": "2023-11-10T12:48:09.035532Z"
    }
   },
   "outputs": [],
   "source": [
    "#Reading the DataSet\n",
    "df = pd.read_csv(\"youtube_dislike_dataset.csv\")"
   ]
  },
  {
   "cell_type": "code",
   "execution_count": 3,
   "id": "3d3cc2b8",
   "metadata": {
    "ExecuteTime": {
     "end_time": "2023-11-10T12:48:11.458397Z",
     "start_time": "2023-11-10T12:48:11.419167Z"
    }
   },
   "outputs": [
    {
     "data": {
      "text/html": [
       "<div>\n",
       "<style scoped>\n",
       "    .dataframe tbody tr th:only-of-type {\n",
       "        vertical-align: middle;\n",
       "    }\n",
       "\n",
       "    .dataframe tbody tr th {\n",
       "        vertical-align: top;\n",
       "    }\n",
       "\n",
       "    .dataframe thead th {\n",
       "        text-align: right;\n",
       "    }\n",
       "</style>\n",
       "<table border=\"1\" class=\"dataframe\">\n",
       "  <thead>\n",
       "    <tr style=\"text-align: right;\">\n",
       "      <th></th>\n",
       "      <th>video_id</th>\n",
       "      <th>title</th>\n",
       "      <th>channel_id</th>\n",
       "      <th>channel_title</th>\n",
       "      <th>published_at</th>\n",
       "      <th>view_count</th>\n",
       "      <th>likes</th>\n",
       "      <th>dislikes</th>\n",
       "      <th>comment_count</th>\n",
       "      <th>tags</th>\n",
       "      <th>description</th>\n",
       "      <th>comments</th>\n",
       "    </tr>\n",
       "  </thead>\n",
       "  <tbody>\n",
       "    <tr>\n",
       "      <th>0</th>\n",
       "      <td>--0bCF-iK2E</td>\n",
       "      <td>Jadon Sancho  Magical Skills &amp; Goals</td>\n",
       "      <td>UC6UL29enLNe4mqwTfAyeNuw</td>\n",
       "      <td>Bundesliga</td>\n",
       "      <td>2021-07-01 10:00:00</td>\n",
       "      <td>1048888</td>\n",
       "      <td>19515</td>\n",
       "      <td>226</td>\n",
       "      <td>1319</td>\n",
       "      <td>football soccer ftbol alemn Bundesliga season ...</td>\n",
       "      <td>Enjoy the best skills and goals from Jadon San...</td>\n",
       "      <td>Respect to Dortmund fans,must be sad losing hi...</td>\n",
       "    </tr>\n",
       "    <tr>\n",
       "      <th>1</th>\n",
       "      <td>--14w5SOEUs</td>\n",
       "      <td>Migos - Avalanche (Official Video)</td>\n",
       "      <td>UCGIelM2Dj3zza3xyV3pL3WQ</td>\n",
       "      <td>MigosVEVO</td>\n",
       "      <td>2021-06-10 16:00:00</td>\n",
       "      <td>15352638</td>\n",
       "      <td>359277</td>\n",
       "      <td>7479</td>\n",
       "      <td>18729</td>\n",
       "      <td>Migos Avalanche Quality Control Music/Motown R...</td>\n",
       "      <td>Watch the the official video for Migos - \"Aval...</td>\n",
       "      <td>Migos just makes me want to live my live to th...</td>\n",
       "    </tr>\n",
       "    <tr>\n",
       "      <th>2</th>\n",
       "      <td>--40TEbZ9Is</td>\n",
       "      <td>Supporting Actress in a Comedy: 73rd Emmys</td>\n",
       "      <td>UClBKH8yZRcM4AsRjDVEdjMg</td>\n",
       "      <td>Television Academy</td>\n",
       "      <td>2021-09-20 01:03:32</td>\n",
       "      <td>925281</td>\n",
       "      <td>11212</td>\n",
       "      <td>401</td>\n",
       "      <td>831</td>\n",
       "      <td></td>\n",
       "      <td>Hannah Waddingham wins the Emmy for Supporting...</td>\n",
       "      <td>Hannah's energy bursts through any screen. Wel...</td>\n",
       "    </tr>\n",
       "    <tr>\n",
       "      <th>3</th>\n",
       "      <td>--4tfbSyYDE</td>\n",
       "      <td>JO1'YOUNG (JO1 ver.)' PERFORMANCE VIDEO</td>\n",
       "      <td>UCsmXiDP8S40uBeJYxvyulmA</td>\n",
       "      <td>JO1</td>\n",
       "      <td>2021-03-03 10:00:17</td>\n",
       "      <td>2641597</td>\n",
       "      <td>39131</td>\n",
       "      <td>441</td>\n",
       "      <td>3745</td>\n",
       "      <td>PRODUCE101JAPAN              JO1   TheSTAR STA...</td>\n",
       "      <td>JO1'YOUNG (JO1 ver.)' PERFORMANCE VIDEO\\n\\n---...</td>\n",
       "      <td>youngVer&gt;&lt;  REN is really PERFECT. It's not ju...</td>\n",
       "    </tr>\n",
       "    <tr>\n",
       "      <th>4</th>\n",
       "      <td>--DKkzWVh-E</td>\n",
       "      <td>Why Retaining Walls Collapse</td>\n",
       "      <td>UCMOqf8ab-42UUQIdVoKwjlQ</td>\n",
       "      <td>Practical Engineering</td>\n",
       "      <td>2021-12-07 13:00:00</td>\n",
       "      <td>715724</td>\n",
       "      <td>32887</td>\n",
       "      <td>367</td>\n",
       "      <td>1067</td>\n",
       "      <td>retaining wall New Jersey highway Direct Conne...</td>\n",
       "      <td>One of the most important (and innocuous) part...</td>\n",
       "      <td>Keep up with all my projects here: https://pr...</td>\n",
       "    </tr>\n",
       "  </tbody>\n",
       "</table>\n",
       "</div>"
      ],
      "text/plain": [
       "      video_id                                       title  \\\n",
       "0  --0bCF-iK2E        Jadon Sancho  Magical Skills & Goals   \n",
       "1  --14w5SOEUs          Migos - Avalanche (Official Video)   \n",
       "2  --40TEbZ9Is  Supporting Actress in a Comedy: 73rd Emmys   \n",
       "3  --4tfbSyYDE     JO1'YOUNG (JO1 ver.)' PERFORMANCE VIDEO   \n",
       "4  --DKkzWVh-E                Why Retaining Walls Collapse   \n",
       "\n",
       "                 channel_id          channel_title         published_at  \\\n",
       "0  UC6UL29enLNe4mqwTfAyeNuw             Bundesliga  2021-07-01 10:00:00   \n",
       "1  UCGIelM2Dj3zza3xyV3pL3WQ              MigosVEVO  2021-06-10 16:00:00   \n",
       "2  UClBKH8yZRcM4AsRjDVEdjMg     Television Academy  2021-09-20 01:03:32   \n",
       "3  UCsmXiDP8S40uBeJYxvyulmA                    JO1  2021-03-03 10:00:17   \n",
       "4  UCMOqf8ab-42UUQIdVoKwjlQ  Practical Engineering  2021-12-07 13:00:00   \n",
       "\n",
       "   view_count   likes  dislikes  comment_count  \\\n",
       "0     1048888   19515       226           1319   \n",
       "1    15352638  359277      7479          18729   \n",
       "2      925281   11212       401            831   \n",
       "3     2641597   39131       441           3745   \n",
       "4      715724   32887       367           1067   \n",
       "\n",
       "                                                tags  \\\n",
       "0  football soccer ftbol alemn Bundesliga season ...   \n",
       "1  Migos Avalanche Quality Control Music/Motown R...   \n",
       "2                                                      \n",
       "3  PRODUCE101JAPAN              JO1   TheSTAR STA...   \n",
       "4  retaining wall New Jersey highway Direct Conne...   \n",
       "\n",
       "                                         description  \\\n",
       "0  Enjoy the best skills and goals from Jadon San...   \n",
       "1  Watch the the official video for Migos - \"Aval...   \n",
       "2  Hannah Waddingham wins the Emmy for Supporting...   \n",
       "3  JO1'YOUNG (JO1 ver.)' PERFORMANCE VIDEO\\n\\n---...   \n",
       "4  One of the most important (and innocuous) part...   \n",
       "\n",
       "                                            comments  \n",
       "0  Respect to Dortmund fans,must be sad losing hi...  \n",
       "1  Migos just makes me want to live my live to th...  \n",
       "2  Hannah's energy bursts through any screen. Wel...  \n",
       "3  youngVer><  REN is really PERFECT. It's not ju...  \n",
       "4   Keep up with all my projects here: https://pr...  "
      ]
     },
     "execution_count": 3,
     "metadata": {},
     "output_type": "execute_result"
    }
   ],
   "source": [
    "#Retrieving top 5 records\n",
    "df.head(5)"
   ]
  },
  {
   "cell_type": "code",
   "execution_count": 4,
   "id": "a485cdd3",
   "metadata": {
    "ExecuteTime": {
     "end_time": "2023-11-10T12:48:11.489945Z",
     "start_time": "2023-11-10T12:48:11.465399Z"
    }
   },
   "outputs": [
    {
     "data": {
      "text/html": [
       "<div>\n",
       "<style scoped>\n",
       "    .dataframe tbody tr th:only-of-type {\n",
       "        vertical-align: middle;\n",
       "    }\n",
       "\n",
       "    .dataframe tbody tr th {\n",
       "        vertical-align: top;\n",
       "    }\n",
       "\n",
       "    .dataframe thead th {\n",
       "        text-align: right;\n",
       "    }\n",
       "</style>\n",
       "<table border=\"1\" class=\"dataframe\">\n",
       "  <thead>\n",
       "    <tr style=\"text-align: right;\">\n",
       "      <th></th>\n",
       "      <th>video_id</th>\n",
       "      <th>title</th>\n",
       "      <th>channel_id</th>\n",
       "      <th>channel_title</th>\n",
       "      <th>published_at</th>\n",
       "      <th>view_count</th>\n",
       "      <th>likes</th>\n",
       "      <th>dislikes</th>\n",
       "      <th>comment_count</th>\n",
       "      <th>tags</th>\n",
       "      <th>description</th>\n",
       "      <th>comments</th>\n",
       "    </tr>\n",
       "  </thead>\n",
       "  <tbody>\n",
       "    <tr>\n",
       "      <th>37417</th>\n",
       "      <td>zzd4ydafGR0</td>\n",
       "      <td>Lil Tjay - Calling My Phone (feat. 6LACK) [Off...</td>\n",
       "      <td>UCEB4a5o_6KfjxHwNMnmj54Q</td>\n",
       "      <td>Lil Tjay</td>\n",
       "      <td>2021-02-12 05:03:49</td>\n",
       "      <td>120408275</td>\n",
       "      <td>2180780</td>\n",
       "      <td>35871</td>\n",
       "      <td>81360</td>\n",
       "      <td>Lil Tjay Steady Calling My Phone Calling My Ph...</td>\n",
       "      <td>Official video for \"Calling My Phone\" by Lil T...</td>\n",
       "      <td>'DESTINED 2 WIN' OUT NOW !! https://liltjay.ln...</td>\n",
       "    </tr>\n",
       "    <tr>\n",
       "      <th>37418</th>\n",
       "      <td>zziBybeSAtw</td>\n",
       "      <td>PELICANS at LAKERS | FULL GAME HIGHLIGHTS | Ja...</td>\n",
       "      <td>UCWJ2lWNubArHWmf3FIHbfcQ</td>\n",
       "      <td>NBA</td>\n",
       "      <td>2021-01-16 05:39:05</td>\n",
       "      <td>2841917</td>\n",
       "      <td>20759</td>\n",
       "      <td>1049</td>\n",
       "      <td>2624</td>\n",
       "      <td>NBA G League Basketball game-0022000187 Lakers...</td>\n",
       "      <td>PELICANS at LAKERS | FULL GAME HIGHLIGHTS | Ja...</td>\n",
       "      <td>Montrezl Harrell is going crazy with the rebou...</td>\n",
       "    </tr>\n",
       "    <tr>\n",
       "      <th>37419</th>\n",
       "      <td>zzk09ESX7e0</td>\n",
       "      <td>[MV]  (MAMAMOO) - Where Are We Now</td>\n",
       "      <td>UCuhAUMLzJxlP1W7mEk0_6lA</td>\n",
       "      <td>MAMAMOO</td>\n",
       "      <td>2021-06-02 09:00:10</td>\n",
       "      <td>13346678</td>\n",
       "      <td>720854</td>\n",
       "      <td>4426</td>\n",
       "      <td>90616</td>\n",
       "      <td>MAMAMOO  WAW  WAW MAMAMOO WAW Where Are We Now...</td>\n",
       "      <td>[MV]  (MAMAMOO) - Where Are We Now\\n\\nInstagra...</td>\n",
       "      <td>I honestly do not know why this song hit so ha...</td>\n",
       "    </tr>\n",
       "    <tr>\n",
       "      <th>37420</th>\n",
       "      <td>zzmQEb0Em5I</td>\n",
       "      <td>FELLIPE ESCUDERO- Master Podcast  #12</td>\n",
       "      <td>UC8NjnNWMsRqq11NYvHAQb1g</td>\n",
       "      <td>Master Podcast</td>\n",
       "      <td>2020-10-20 20:59:30</td>\n",
       "      <td>252057</td>\n",
       "      <td>19198</td>\n",
       "      <td>1234</td>\n",
       "      <td>1471</td>\n",
       "      <td>master masterpodcast lord lord vinheteiro z z ...</td>\n",
       "      <td>DOCTOR HAIR\\nhttps://www.thedoctorhair.com/?fb...</td>\n",
       "      <td>Foi um prazer passar esta tarde com vocs debat...</td>\n",
       "    </tr>\n",
       "    <tr>\n",
       "      <th>37421</th>\n",
       "      <td>zzxPZwaA-8w</td>\n",
       "      <td>Gareth Bale brace secures dramatic comeback on...</td>\n",
       "      <td>UCEg25rdRZXg32iwai6N6l0w</td>\n",
       "      <td>Tottenham Hotspur</td>\n",
       "      <td>2021-05-23 21:00:31</td>\n",
       "      <td>2252090</td>\n",
       "      <td>34063</td>\n",
       "      <td>868</td>\n",
       "      <td>2004</td>\n",
       "      <td>Spurs Tottenham Hotspur   Tottenham Leicester ...</td>\n",
       "      <td>Two minute highlights from Tottenham Hotspur's...</td>\n",
       "      <td>Thank you Kane for everything you have given t...</td>\n",
       "    </tr>\n",
       "  </tbody>\n",
       "</table>\n",
       "</div>"
      ],
      "text/plain": [
       "          video_id                                              title  \\\n",
       "37417  zzd4ydafGR0  Lil Tjay - Calling My Phone (feat. 6LACK) [Off...   \n",
       "37418  zziBybeSAtw  PELICANS at LAKERS | FULL GAME HIGHLIGHTS | Ja...   \n",
       "37419  zzk09ESX7e0                 [MV]  (MAMAMOO) - Where Are We Now   \n",
       "37420  zzmQEb0Em5I              FELLIPE ESCUDERO- Master Podcast  #12   \n",
       "37421  zzxPZwaA-8w  Gareth Bale brace secures dramatic comeback on...   \n",
       "\n",
       "                     channel_id      channel_title         published_at  \\\n",
       "37417  UCEB4a5o_6KfjxHwNMnmj54Q           Lil Tjay  2021-02-12 05:03:49   \n",
       "37418  UCWJ2lWNubArHWmf3FIHbfcQ                NBA  2021-01-16 05:39:05   \n",
       "37419  UCuhAUMLzJxlP1W7mEk0_6lA            MAMAMOO  2021-06-02 09:00:10   \n",
       "37420  UC8NjnNWMsRqq11NYvHAQb1g     Master Podcast  2020-10-20 20:59:30   \n",
       "37421  UCEg25rdRZXg32iwai6N6l0w  Tottenham Hotspur  2021-05-23 21:00:31   \n",
       "\n",
       "       view_count    likes  dislikes  comment_count  \\\n",
       "37417   120408275  2180780     35871          81360   \n",
       "37418     2841917    20759      1049           2624   \n",
       "37419    13346678   720854      4426          90616   \n",
       "37420      252057    19198      1234           1471   \n",
       "37421     2252090    34063       868           2004   \n",
       "\n",
       "                                                    tags  \\\n",
       "37417  Lil Tjay Steady Calling My Phone Calling My Ph...   \n",
       "37418  NBA G League Basketball game-0022000187 Lakers...   \n",
       "37419  MAMAMOO  WAW  WAW MAMAMOO WAW Where Are We Now...   \n",
       "37420  master masterpodcast lord lord vinheteiro z z ...   \n",
       "37421  Spurs Tottenham Hotspur   Tottenham Leicester ...   \n",
       "\n",
       "                                             description  \\\n",
       "37417  Official video for \"Calling My Phone\" by Lil T...   \n",
       "37418  PELICANS at LAKERS | FULL GAME HIGHLIGHTS | Ja...   \n",
       "37419  [MV]  (MAMAMOO) - Where Are We Now\\n\\nInstagra...   \n",
       "37420  DOCTOR HAIR\\nhttps://www.thedoctorhair.com/?fb...   \n",
       "37421  Two minute highlights from Tottenham Hotspur's...   \n",
       "\n",
       "                                                comments  \n",
       "37417  'DESTINED 2 WIN' OUT NOW !! https://liltjay.ln...  \n",
       "37418  Montrezl Harrell is going crazy with the rebou...  \n",
       "37419  I honestly do not know why this song hit so ha...  \n",
       "37420  Foi um prazer passar esta tarde com vocs debat...  \n",
       "37421  Thank you Kane for everything you have given t...  "
      ]
     },
     "execution_count": 4,
     "metadata": {},
     "output_type": "execute_result"
    }
   ],
   "source": [
    "#Retrieving bottom 5 records\n",
    "df.tail(5) "
   ]
  },
  {
   "cell_type": "markdown",
   "id": "e263e67f",
   "metadata": {},
   "source": [
    "# <span style=\" font-family: 'Times New Roman', Times, serif;\"> 2. Checking the info of the dataframe and write our inferences on data types and shape of the dataset "
   ]
  },
  {
   "cell_type": "code",
   "execution_count": 5,
   "id": "56f6eb67",
   "metadata": {
    "ExecuteTime": {
     "end_time": "2023-11-10T12:48:11.552511Z",
     "start_time": "2023-11-10T12:48:11.495145Z"
    }
   },
   "outputs": [
    {
     "name": "stdout",
     "output_type": "stream",
     "text": [
      "<class 'pandas.core.frame.DataFrame'>\n",
      "RangeIndex: 37422 entries, 0 to 37421\n",
      "Data columns (total 12 columns):\n",
      " #   Column         Non-Null Count  Dtype \n",
      "---  ------         --------------  ----- \n",
      " 0   video_id       37422 non-null  object\n",
      " 1   title          37422 non-null  object\n",
      " 2   channel_id     37422 non-null  object\n",
      " 3   channel_title  37422 non-null  object\n",
      " 4   published_at   37422 non-null  object\n",
      " 5   view_count     37422 non-null  int64 \n",
      " 6   likes          37422 non-null  int64 \n",
      " 7   dislikes       37422 non-null  int64 \n",
      " 8   comment_count  37422 non-null  int64 \n",
      " 9   tags           37422 non-null  object\n",
      " 10  description    37422 non-null  object\n",
      " 11  comments       37264 non-null  object\n",
      "dtypes: int64(4), object(8)\n",
      "memory usage: 3.4+ MB\n",
      "(37422, 12)\n"
     ]
    }
   ],
   "source": [
    "df.info()\n",
    "print(df.shape)"
   ]
  },
  {
   "cell_type": "markdown",
   "id": "12b1ca74",
   "metadata": {},
   "source": [
    "***<b><font>Data Types:***\n",
    "\n",
    "<b><font color='green'>~ The dataset contains a total of 12 columns.</font></b>\n",
    "\n",
    "<b><font color='green'>~ Object: Eight columns have object data type (object), which usually indicates text data: video_id, title, channel_id, channel_title, published_at, tags, description, and comments.</font></b>\n",
    "\n",
    "<b><font color='green'>~ Integer:Four columns have integer data type (int64): view_count, likes, dislikes, and comment_count. .</font></b>\n",
    "\n",
    "\n",
    "***<b><font>Shape of data:***\n",
    "\n",
    "<b><font color='green'>~ There are 37422 rows and 12 columns in the dataframe </font></b> "
   ]
  },
  {
   "cell_type": "markdown",
   "id": "c7b598e0",
   "metadata": {},
   "source": [
    "# <span style=\" font-family: 'Times New Roman', Times, serif;\"> 3. Checking for the Percentage of the missing values and droping or imputing them.\n"
   ]
  },
  {
   "cell_type": "code",
   "execution_count": 6,
   "id": "9c91d075",
   "metadata": {
    "ExecuteTime": {
     "end_time": "2023-11-10T12:48:11.600972Z",
     "start_time": "2023-11-10T12:48:11.557513Z"
    }
   },
   "outputs": [
    {
     "data": {
      "text/plain": [
       "video_id         0.000000\n",
       "title            0.000000\n",
       "channel_id       0.000000\n",
       "channel_title    0.000000\n",
       "published_at     0.000000\n",
       "view_count       0.000000\n",
       "likes            0.000000\n",
       "dislikes         0.000000\n",
       "comment_count    0.000000\n",
       "tags             0.000000\n",
       "description      0.000000\n",
       "comments         0.422212\n",
       "dtype: float64"
      ]
     },
     "execution_count": 6,
     "metadata": {},
     "output_type": "execute_result"
    }
   ],
   "source": [
    "(df.isnull().sum() /len(df)) * 100 "
   ]
  },
  {
   "cell_type": "markdown",
   "id": "79d9cea8",
   "metadata": {},
   "source": [
    "<b><font color= \"green\">~ Only comments column has null values and that is 0.42% which are 158 missing values </font></b>"
   ]
  },
  {
   "cell_type": "code",
   "execution_count": 7,
   "id": "d7d7ac33",
   "metadata": {
    "ExecuteTime": {
     "end_time": "2023-11-10T12:48:11.668098Z",
     "start_time": "2023-11-10T12:48:11.608891Z"
    }
   },
   "outputs": [],
   "source": [
    "# Dropped missing values in original dataset with the help of inplace=True,saved changes in the dataframe df.\n",
    "df.dropna(inplace=True)"
   ]
  },
  {
   "cell_type": "code",
   "execution_count": 8,
   "id": "f312d32c",
   "metadata": {
    "ExecuteTime": {
     "end_time": "2023-11-10T12:48:11.720824Z",
     "start_time": "2023-11-10T12:48:11.674440Z"
    }
   },
   "outputs": [
    {
     "data": {
      "text/plain": [
       "video_id         0\n",
       "title            0\n",
       "channel_id       0\n",
       "channel_title    0\n",
       "published_at     0\n",
       "view_count       0\n",
       "likes            0\n",
       "dislikes         0\n",
       "comment_count    0\n",
       "tags             0\n",
       "description      0\n",
       "comments         0\n",
       "dtype: int64"
      ]
     },
     "execution_count": 8,
     "metadata": {},
     "output_type": "execute_result"
    }
   ],
   "source": [
    "# Verifying if all the missing values are dropped\n",
    "df.isnull().sum() "
   ]
  },
  {
   "cell_type": "markdown",
   "id": "ccc85497",
   "metadata": {},
   "source": [
    "# <span style=\" font-family: 'Times New Roman', Times, serif;\"> 4. Checking the statistical summary of both numerical and categorical columns and writing our inferences.\n"
   ]
  },
  {
   "cell_type": "code",
   "execution_count": 9,
   "id": "d17fe98a",
   "metadata": {
    "ExecuteTime": {
     "end_time": "2023-11-10T12:48:11.791316Z",
     "start_time": "2023-11-10T12:48:11.734422Z"
    }
   },
   "outputs": [
    {
     "data": {
      "text/html": [
       "<div>\n",
       "<style scoped>\n",
       "    .dataframe tbody tr th:only-of-type {\n",
       "        vertical-align: middle;\n",
       "    }\n",
       "\n",
       "    .dataframe tbody tr th {\n",
       "        vertical-align: top;\n",
       "    }\n",
       "\n",
       "    .dataframe thead th {\n",
       "        text-align: right;\n",
       "    }\n",
       "</style>\n",
       "<table border=\"1\" class=\"dataframe\">\n",
       "  <thead>\n",
       "    <tr style=\"text-align: right;\">\n",
       "      <th></th>\n",
       "      <th>view_count</th>\n",
       "      <th>likes</th>\n",
       "      <th>dislikes</th>\n",
       "      <th>comment_count</th>\n",
       "    </tr>\n",
       "  </thead>\n",
       "  <tbody>\n",
       "    <tr>\n",
       "      <th>count</th>\n",
       "      <td>37264.00000</td>\n",
       "      <td>37264.00000</td>\n",
       "      <td>37264.00000</td>\n",
       "      <td>37264.00000</td>\n",
       "    </tr>\n",
       "    <tr>\n",
       "      <th>mean</th>\n",
       "      <td>5710821.45003</td>\n",
       "      <td>167286.69700</td>\n",
       "      <td>4996.43412</td>\n",
       "      <td>9966.95315</td>\n",
       "    </tr>\n",
       "    <tr>\n",
       "      <th>std</th>\n",
       "      <td>24313037.50711</td>\n",
       "      <td>538493.10269</td>\n",
       "      <td>30751.93784</td>\n",
       "      <td>117346.46657</td>\n",
       "    </tr>\n",
       "    <tr>\n",
       "      <th>min</th>\n",
       "      <td>20368.00000</td>\n",
       "      <td>22.00000</td>\n",
       "      <td>3.00000</td>\n",
       "      <td>1.00000</td>\n",
       "    </tr>\n",
       "    <tr>\n",
       "      <th>25%</th>\n",
       "      <td>514130.50000</td>\n",
       "      <td>13317.25000</td>\n",
       "      <td>282.75000</td>\n",
       "      <td>914.00000</td>\n",
       "    </tr>\n",
       "    <tr>\n",
       "      <th>50%</th>\n",
       "      <td>1321860.50000</td>\n",
       "      <td>42556.00000</td>\n",
       "      <td>798.00000</td>\n",
       "      <td>2347.00000</td>\n",
       "    </tr>\n",
       "    <tr>\n",
       "      <th>75%</th>\n",
       "      <td>3674527.25000</td>\n",
       "      <td>130966.50000</td>\n",
       "      <td>2466.25000</td>\n",
       "      <td>6212.00000</td>\n",
       "    </tr>\n",
       "    <tr>\n",
       "      <th>max</th>\n",
       "      <td>1322796924.00000</td>\n",
       "      <td>31837675.00000</td>\n",
       "      <td>2397733.00000</td>\n",
       "      <td>16071029.00000</td>\n",
       "    </tr>\n",
       "  </tbody>\n",
       "</table>\n",
       "</div>"
      ],
      "text/plain": [
       "             view_count           likes       dislikes   comment_count\n",
       "count       37264.00000     37264.00000    37264.00000     37264.00000\n",
       "mean      5710821.45003    167286.69700     4996.43412      9966.95315\n",
       "std      24313037.50711    538493.10269    30751.93784    117346.46657\n",
       "min         20368.00000        22.00000        3.00000         1.00000\n",
       "25%        514130.50000     13317.25000      282.75000       914.00000\n",
       "50%       1321860.50000     42556.00000      798.00000      2347.00000\n",
       "75%       3674527.25000    130966.50000     2466.25000      6212.00000\n",
       "max    1322796924.00000  31837675.00000  2397733.00000  16071029.00000"
      ]
     },
     "execution_count": 9,
     "metadata": {},
     "output_type": "execute_result"
    }
   ],
   "source": [
    "#Only for numerical data type \n",
    "df.describe().apply(lambda s: s.apply('{0:.5f}'.format))"
   ]
  },
  {
   "cell_type": "markdown",
   "id": "2c3a2add",
   "metadata": {},
   "source": [
    "***<b><font>View Count:*** \n",
    "    \n",
    " <b><font color= \"green\">~ The view_count column has a mean of approximately 5,710,821, indicating that, on average, videos in the dataset have over 5 million views. </font></b> \n",
    "    \n",
    " <b><font color= \"green\">~ The minimum number of views for a video is 20,368, and the maximum is 1,322,796,924. </font></b>  \n",
    "    \n",
    " <b><font color= \"green\">~ The distribution of views is right-skewed, as the mean is greater than the median (50th percentile).</font></b>  \n",
    "    \n",
    " ***<b><font>Likes:*** \n",
    "    \n",
    " <b><font color=\"green\">~ The likes column has a mean of approximately 167,286, suggesting that, on average, videos have about 167,286 likes.</font></b>  \n",
    "  \n",
    " <b><font color=\"green\">~The minimum number of likes for a video is 22, and the maximum is 31,837,675. </font></b>  \n",
    "  \n",
    "<b><font color=\"green\">~For view_count, the distribution is right-skewed. </font></b> \n",
    "  \n",
    " ***<b><font>Dislikes:*** \n",
    "    \n",
    "   <b><font color=\"green\">~The dislikes column has a mean of approximately 4,996, indicating that, on average, videos have about 4,996 dislikes. </font></b>\n",
    "    \n",
    "  <b><font color=\"green\">~The minimum number of dislikes for a video is 3, and the maximum is 2,397,733 </font></b> \n",
    "    \n",
    "  <b><font color=\"green\">~The distribution of dislikes is also right-skewed. </font></b>  \n",
    " \n",
    "  ***<b><font>Comment Count:*** \n",
    "  \n",
    " <b><font color=\"green\">~The comment_count column has a mean of approximately 9,966, suggesting that, on average, videos have about 9,966 comments. </font></b>\n",
    "    \n",
    "  <b><font color=\"green\">~The minimum number of comments for a video is 1, and the maximum is 16,071,029. </font></b> \n",
    "    \n",
    "  <b><font color=\"green\">~ The distribution of comment counts is right-skewed. </font></b>  "
   ]
  },
  {
   "cell_type": "code",
   "execution_count": 10,
   "id": "5981dc6e",
   "metadata": {
    "ExecuteTime": {
     "end_time": "2023-11-10T12:48:12.133440Z",
     "start_time": "2023-11-10T12:48:11.798652Z"
    },
    "scrolled": true
   },
   "outputs": [
    {
     "data": {
      "text/html": [
       "<div>\n",
       "<style scoped>\n",
       "    .dataframe tbody tr th:only-of-type {\n",
       "        vertical-align: middle;\n",
       "    }\n",
       "\n",
       "    .dataframe tbody tr th {\n",
       "        vertical-align: top;\n",
       "    }\n",
       "\n",
       "    .dataframe thead th {\n",
       "        text-align: right;\n",
       "    }\n",
       "</style>\n",
       "<table border=\"1\" class=\"dataframe\">\n",
       "  <thead>\n",
       "    <tr style=\"text-align: right;\">\n",
       "      <th></th>\n",
       "      <th>video_id</th>\n",
       "      <th>title</th>\n",
       "      <th>channel_id</th>\n",
       "      <th>channel_title</th>\n",
       "      <th>published_at</th>\n",
       "      <th>tags</th>\n",
       "      <th>description</th>\n",
       "      <th>comments</th>\n",
       "    </tr>\n",
       "  </thead>\n",
       "  <tbody>\n",
       "    <tr>\n",
       "      <th>count</th>\n",
       "      <td>37264</td>\n",
       "      <td>37264</td>\n",
       "      <td>37264</td>\n",
       "      <td>37264</td>\n",
       "      <td>37264</td>\n",
       "      <td>37264</td>\n",
       "      <td>37264</td>\n",
       "      <td>37264</td>\n",
       "    </tr>\n",
       "    <tr>\n",
       "      <th>unique</th>\n",
       "      <td>37264</td>\n",
       "      <td>36958</td>\n",
       "      <td>10891</td>\n",
       "      <td>10813</td>\n",
       "      <td>36617</td>\n",
       "      <td>28705</td>\n",
       "      <td>35479</td>\n",
       "      <td>37264</td>\n",
       "    </tr>\n",
       "    <tr>\n",
       "      <th>top</th>\n",
       "      <td>--0bCF-iK2E</td>\n",
       "      <td>www</td>\n",
       "      <td>UCNAf1k0yIjyGu3k9BwAg3lg</td>\n",
       "      <td>Sky Sports Football</td>\n",
       "      <td>2020-10-16 04:00:10</td>\n",
       "      <td></td>\n",
       "      <td></td>\n",
       "      <td>Respect to Dortmund fans,must be sad losing hi...</td>\n",
       "    </tr>\n",
       "    <tr>\n",
       "      <th>freq</th>\n",
       "      <td>1</td>\n",
       "      <td>21</td>\n",
       "      <td>533</td>\n",
       "      <td>533</td>\n",
       "      <td>6</td>\n",
       "      <td>3808</td>\n",
       "      <td>587</td>\n",
       "      <td>1</td>\n",
       "    </tr>\n",
       "  </tbody>\n",
       "</table>\n",
       "</div>"
      ],
      "text/plain": [
       "           video_id  title                channel_id        channel_title  \\\n",
       "count         37264  37264                     37264                37264   \n",
       "unique        37264  36958                     10891                10813   \n",
       "top     --0bCF-iK2E    www  UCNAf1k0yIjyGu3k9BwAg3lg  Sky Sports Football   \n",
       "freq              1     21                       533                  533   \n",
       "\n",
       "               published_at   tags description  \\\n",
       "count                 37264  37264       37264   \n",
       "unique                36617  28705       35479   \n",
       "top     2020-10-16 04:00:10                      \n",
       "freq                      6   3808         587   \n",
       "\n",
       "                                                 comments  \n",
       "count                                               37264  \n",
       "unique                                              37264  \n",
       "top     Respect to Dortmund fans,must be sad losing hi...  \n",
       "freq                                                    1  "
      ]
     },
     "execution_count": 10,
     "metadata": {},
     "output_type": "execute_result"
    }
   ],
   "source": [
    "#we can also use df.describe(include=\"all\") which includes summary statestics for both numeric and categorical variables\n",
    "#however to maintain the clarity of code we've seperated the two variables\n",
    "#Only for categorical(non-numeric) data type\n",
    "\n",
    "df.describe(include='object')"
   ]
  },
  {
   "cell_type": "markdown",
   "id": "1a0513be",
   "metadata": {},
   "source": [
    "***<b><font> Count and Unique Values:***\n",
    "    \n",
    "<b><font color=\"green\">~ The video_id, title, channel_id, channel_title, tags, description, comments, and published_at columns all have 37,264 entries, indicating no missing values in these categorical columns. </font></b>\n",
    "\n",
    "<b><font color=\"green\">~ The comments column has 37,264 unique values, suggesting that each video has a different set of comments. </font></b>\n",
    "\n",
    "***<b><font>Top and Frequency:***\n",
    "    \n",
    "<b><font color=\"green\">~  Top YouTube channel is Sky Sports Football </font></b>    \n",
    "    \n",
    "<b><font color=\"green\">~  Top YouTube video title is www </font></b>  \n",
    "    "
   ]
  },
  {
   "cell_type": "markdown",
   "id": "7e742fb6",
   "metadata": {},
   "source": [
    "# <span style=\" font-family: 'Times New Roman', Times, serif;\"> 5. Converting datatype of column 'published_at' from object to pandas datetime."
   ]
  },
  {
   "cell_type": "code",
   "execution_count": 11,
   "id": "97b17406",
   "metadata": {
    "ExecuteTime": {
     "end_time": "2023-11-10T12:48:12.212510Z",
     "start_time": "2023-11-10T12:48:12.136443Z"
    }
   },
   "outputs": [
    {
     "data": {
      "text/plain": [
       "0       2021-07-01 10:00:00\n",
       "1       2021-06-10 16:00:00\n",
       "2       2021-09-20 01:03:32\n",
       "3       2021-03-03 10:00:17\n",
       "4       2021-12-07 13:00:00\n",
       "                ...        \n",
       "37417   2021-02-12 05:03:49\n",
       "37418   2021-01-16 05:39:05\n",
       "37419   2021-06-02 09:00:10\n",
       "37420   2020-10-20 20:59:30\n",
       "37421   2021-05-23 21:00:31\n",
       "Name: published_at, Length: 37264, dtype: datetime64[ns]"
      ]
     },
     "execution_count": 11,
     "metadata": {},
     "output_type": "execute_result"
    }
   ],
   "source": [
    "#conversion of datatype usng to_datetime()\n",
    "df['published_at']=pd.to_datetime(df['published_at']) \n",
    "df['published_at']"
   ]
  },
  {
   "cell_type": "markdown",
   "id": "268ad60e",
   "metadata": {},
   "source": [
    "# <span style=\" font-family: 'Times New Roman', Times, serif;\">6. Creating a new column as 'published_month' using the column published_at (and displaying only the months)\n"
   ]
  },
  {
   "cell_type": "code",
   "execution_count": 12,
   "id": "af3de1bf",
   "metadata": {
    "ExecuteTime": {
     "end_time": "2023-11-10T12:48:12.235016Z",
     "start_time": "2023-11-10T12:48:12.217472Z"
    }
   },
   "outputs": [
    {
     "data": {
      "text/plain": [
       "0         7\n",
       "1         6\n",
       "2         9\n",
       "3         3\n",
       "4        12\n",
       "         ..\n",
       "37417     2\n",
       "37418     1\n",
       "37419     6\n",
       "37420    10\n",
       "37421     5\n",
       "Name: published_at, Length: 37264, dtype: int32"
      ]
     },
     "execution_count": 12,
     "metadata": {},
     "output_type": "execute_result"
    }
   ],
   "source": [
    "#using DatetimeIndex(dt.month) extracted month from 'published_at' column\n",
    "df['published_at'].dt.month "
   ]
  },
  {
   "cell_type": "code",
   "execution_count": 13,
   "id": "7f6276ba",
   "metadata": {
    "ExecuteTime": {
     "end_time": "2023-11-10T12:48:12.266027Z",
     "start_time": "2023-11-10T12:48:12.239019Z"
    }
   },
   "outputs": [
    {
     "data": {
      "text/plain": [
       "array([ 7,  6,  9, ...,  6, 10,  5])"
      ]
     },
     "execution_count": 13,
     "metadata": {},
     "output_type": "execute_result"
    }
   ],
   "source": [
    "#The extracted value is then assigned to a new colum which is created by the name df['published_month'] and its contents displayed.\n",
    "df['published_month']=df['published_at'].dt.month\n",
    "df['published_month'].values                                    #the months are displayed along side their index value(we can use .value to extract only the values)"
   ]
  },
  {
   "cell_type": "markdown",
   "id": "bfbe659d",
   "metadata": {},
   "source": [
    "# <span style=\" font-family: 'Times New Roman', Times, serif;\"> 7. Replace the numbers in the column published_month as names of the months i,e., 1 as 'Jan', 2 as 'Feb'and so on.....\n"
   ]
  },
  {
   "cell_type": "code",
   "execution_count": 14,
   "id": "3d2e3b64",
   "metadata": {
    "ExecuteTime": {
     "end_time": "2023-11-10T12:48:12.313079Z",
     "start_time": "2023-11-10T12:48:12.273033Z"
    }
   },
   "outputs": [
    {
     "data": {
      "text/plain": [
       "0        July\n",
       "1        June\n",
       "2         Sep\n",
       "3         Mar\n",
       "4         Dec\n",
       "         ... \n",
       "37417     Feb\n",
       "37418     Jan\n",
       "37419    June\n",
       "37420     Oct\n",
       "37421     May\n",
       "Name: published_month, Length: 37264, dtype: object"
      ]
     },
     "execution_count": 14,
     "metadata": {},
     "output_type": "execute_result"
    }
   ],
   "source": [
    "#Created a dictionary to save key-value pairs to be replaced, and then using replace function replaced months numbers to its values in dictionary\n",
    "lib = {1:'Jan',2:'Feb',3:'Mar',4:'Apri',5:'May',6:'June',7:'July',8:'Aug',9:'Sep',10:'Oct',11:'Nov',12:'Dec'}\n",
    "\n",
    "df['published_month'] = df['published_month'].replace(lib)  #we can also use the .map function to map the key value pairs from the dictionary into the dataframe\n",
    "df['published_month'] "
   ]
  },
  {
   "cell_type": "markdown",
   "id": "dd0f9e41",
   "metadata": {},
   "source": [
    "# <span style=\" font-family: 'Times New Roman', Times, serif;\"> 8. Find the number of videos published each month and arrange the months in a decreasing order based on the video count.\n"
   ]
  },
  {
   "cell_type": "code",
   "execution_count": 15,
   "id": "817c99d3",
   "metadata": {
    "ExecuteTime": {
     "end_time": "2023-11-10T12:48:12.354946Z",
     "start_time": "2023-11-10T12:48:12.320191Z"
    }
   },
   "outputs": [
    {
     "data": {
      "text/plain": [
       "published_month\n",
       "Oct     4976\n",
       "Sep     4854\n",
       "Nov     4821\n",
       "Aug     4250\n",
       "Dec     3063\n",
       "July    2331\n",
       "June    2305\n",
       "Mar     2248\n",
       "Feb     2125\n",
       "Apri    2119\n",
       "Jan     2099\n",
       "May     2073\n",
       "Name: video_id, dtype: int64"
      ]
     },
     "execution_count": 15,
     "metadata": {},
     "output_type": "execute_result"
    }
   ],
   "source": [
    "#Here we've used the groupby to group the data based on the unique months and then did a count of 'video_id' associated to that particular month\n",
    "#used .sort_values(ascending=False) the sort the values in descending order \n",
    "# we can also use pd.pivot_table(df, index = [\"published_month\"], aggfunc=\"count\", values=\"video_id\") to represent this data and then sort them\n",
    "\n",
    "df.groupby('published_month')['video_id'].count().sort_values(ascending=False)"
   ]
  },
  {
   "cell_type": "markdown",
   "id": "42a9d274",
   "metadata": {},
   "source": [
    "***<b><font>Findings:***\n",
    "    \n",
    "<b><font color= \"green\">~ Highest number of videos were published in the month of October (4976) </font></b>\n",
    "\n",
    "<b><font color= \"green\">~ Lowest number of videos were published in the month of May (2073) </font></b> "
   ]
  },
  {
   "cell_type": "markdown",
   "id": "fefc3cdf",
   "metadata": {},
   "source": [
    "# <span style=\" font-family: 'Times New Roman', Times, serif;\"> 9. Finding the count of unique video_id, channel_id and channel_title "
   ]
  },
  {
   "cell_type": "code",
   "execution_count": 16,
   "id": "8ccb63a4",
   "metadata": {
    "ExecuteTime": {
     "end_time": "2023-11-10T12:48:12.428027Z",
     "start_time": "2023-11-10T12:48:12.359949Z"
    }
   },
   "outputs": [
    {
     "data": {
      "text/plain": [
       "video_id         37264\n",
       "channel_id       10891\n",
       "channel_title    10813\n",
       "dtype: int64"
      ]
     },
     "execution_count": 16,
     "metadata": {},
     "output_type": "execute_result"
    }
   ],
   "source": [
    "#To find count of unique video_id, channel_id and channel_title the nunique() function was called.\n",
    "df[[\"video_id\", \"channel_id\", \"channel_title\"]].nunique()  "
   ]
  },
  {
   "cell_type": "markdown",
   "id": "0176e1f7",
   "metadata": {},
   "source": [
    "***<b><font>Findings:***\n",
    "    \n",
    "<b><font color= \"green\">~ Number of unique values for video_id is the same as the total count of the videos  </font></b>\n",
    "\n",
    "<b><font color= \"green\">~ channel_id and channel_titles of more than 50% channels and videos are similar </font></b> "
   ]
  },
  {
   "cell_type": "markdown",
   "id": "87fba78f",
   "metadata": {},
   "source": [
    "# <span style=\" font-family: 'Times New Roman', Times, serif;\">10. Find the top10 channel names having the highest number of videos in the dataset and the bottom10 having lowest number of videos.\n"
   ]
  },
  {
   "cell_type": "code",
   "execution_count": 17,
   "id": "5715b736",
   "metadata": {
    "ExecuteTime": {
     "end_time": "2023-11-10T12:48:12.481302Z",
     "start_time": "2023-11-10T12:48:12.433161Z"
    }
   },
   "outputs": [
    {
     "data": {
      "text/plain": [
       "channel_title\n",
       "Sky Sports Football    533\n",
       "The United Stand       301\n",
       "BT Sport               246\n",
       "NBA                    209\n",
       "NFL                    162\n",
       "                      ... \n",
       "Kaptain Kuba             1\n",
       "Kanye West               1\n",
       "Kannur kitchen           1\n",
       "Kannada Cinema           1\n",
       "zoom                     1\n",
       "Name: video_id, Length: 10813, dtype: int64"
      ]
     },
     "execution_count": 17,
     "metadata": {},
     "output_type": "execute_result"
    }
   ],
   "source": [
    "#gouping the data based on channel_title and counting the number of 'video_id' thereafter sorting the values in descending order\n",
    "#we can also use pivot tables to represent this data:pd.pivot_table(df, index = [\"channel_title\"], aggfunc=\"count\", values=\"video_id\").sort_values(by=['video_id'], ascending=False)\n",
    "\n",
    "channel_vid=df.groupby('channel_title')['video_id'].count().sort_values(ascending=False)\n",
    "channel_vid "
   ]
  },
  {
   "cell_type": "code",
   "execution_count": 18,
   "id": "f705f14f",
   "metadata": {
    "ExecuteTime": {
     "end_time": "2023-11-10T12:48:12.497348Z",
     "start_time": "2023-11-10T12:48:12.486565Z"
    }
   },
   "outputs": [
    {
     "data": {
      "text/plain": [
       "channel_title\n",
       "Sky Sports Football    533\n",
       "The United Stand       301\n",
       "BT Sport               246\n",
       "NBA                    209\n",
       "NFL                    162\n",
       "WWE                    122\n",
       "SSSniperWolf            99\n",
       "SSundee                 98\n",
       "FORMULA 1               87\n",
       "NHL                     86\n",
       "Name: video_id, dtype: int64"
      ]
     },
     "execution_count": 18,
     "metadata": {},
     "output_type": "execute_result"
    }
   ],
   "source": [
    "#from the sorted data extracting  the name of the top 10 records \n",
    "channel_vid.head(10) "
   ]
  },
  {
   "cell_type": "code",
   "execution_count": 19,
   "id": "dafa7034",
   "metadata": {
    "ExecuteTime": {
     "end_time": "2023-11-10T12:48:12.517603Z",
     "start_time": "2023-11-10T12:48:12.502350Z"
    }
   },
   "outputs": [
    {
     "data": {
      "text/plain": [
       "channel_title\n",
       "Karikku Tuned      1\n",
       "Karen Bustillos    1\n",
       "Karen Aslanyan     1\n",
       "Karchez            1\n",
       "Karate Combat      1\n",
       "Kaptain Kuba       1\n",
       "Kanye West         1\n",
       "Kannur kitchen     1\n",
       "Kannada Cinema     1\n",
       "zoom               1\n",
       "Name: video_id, dtype: int64"
      ]
     },
     "execution_count": 19,
     "metadata": {},
     "output_type": "execute_result"
    }
   ],
   "source": [
    "#from the sorted data extracting only the bottom 10 records\n",
    "channel_vid.tail(10)"
   ]
  },
  {
   "cell_type": "markdown",
   "id": "106eeff2",
   "metadata": {},
   "source": [
    "***<b><font>Findings:***\n",
    "    \n",
    "<b><font color= \"green\">~ The top-10 channels with the highest number of videos are : 'Sky Sports Football', 'The United Stand', 'BT Sport', 'NBA', 'NFL',\n",
    "       'WWE', 'SSSniperWolf', 'SSundee', 'FORMULA 1', 'NHL </font></b>\n",
    "\n",
    "<b><font color= \"green\">~ The bottom-10 channels with the lowest number of videos are : 'Karikku Tuned', 'Karen Bustillos', 'Karen Aslanyan', 'Karchez',\n",
    "       'Karate Combat', 'Kaptain Kuba', 'Kanye West', 'Kannur kitchen',\n",
    "       'Kannada Cinema', 'zoom' </font></b> "
   ]
  },
  {
   "cell_type": "markdown",
   "id": "1aa2ac3a",
   "metadata": {
    "ExecuteTime": {
     "end_time": "2023-11-09T07:10:02.774061Z",
     "start_time": "2023-11-09T07:10:02.769182Z"
    }
   },
   "source": [
    "# <span style=\" font-family: 'Times New Roman', Times, serif;\"> 11. Find the title of the video which has the maximum number of likes and the title of the video having minimum likes and write your inferences. \n"
   ]
  },
  {
   "cell_type": "code",
   "execution_count": 20,
   "id": "45709419",
   "metadata": {
    "ExecuteTime": {
     "end_time": "2023-11-10T12:48:12.640386Z",
     "start_time": "2023-11-10T12:48:12.525358Z"
    }
   },
   "outputs": [
    {
     "data": {
      "text/plain": [
       "title\n",
       "BTS () 'Dynamite' Official MV                      31837675\n",
       "BTS () 'Butter' Official MV                        20649409\n",
       "BLACKPINK - 'Ice Cream (with Selena Gomez)' M/V    17864527\n",
       "BTS () 'Life Goes On' Official MV                  16354127\n",
       "BTS () 'Permission to Dance' Official MV           15449003\n",
       "                                                     ...   \n",
       "Virtual Pub Quiz, Live! Thursday 8th July               106\n",
       "Virtual Pub Quiz, Live! Saturday 12th December           97\n",
       "Small Business Loans from OnDeck                         29\n",
       "Tims For Good: A Taste Of The Familiar                   28\n",
       "Leading the Charge | Circle K                            22\n",
       "Name: likes, Length: 36958, dtype: int64"
      ]
     },
     "execution_count": 20,
     "metadata": {},
     "output_type": "execute_result"
    }
   ],
   "source": [
    "#using groupby to group the title of the video and aggregating the sum of likes for the particular channel_title\n",
    "#we can also use pivot tables to do the same\n",
    "title_likes=df.groupby('title')['likes'].sum().sort_values(ascending=False)\n",
    "title_likes "
   ]
  },
  {
   "cell_type": "code",
   "execution_count": 21,
   "id": "e0142310",
   "metadata": {
    "ExecuteTime": {
     "end_time": "2023-11-10T12:48:12.655713Z",
     "start_time": "2023-11-10T12:48:12.644391Z"
    }
   },
   "outputs": [
    {
     "data": {
      "text/plain": [
       "Index(['BTS () 'Dynamite' Official MV'], dtype='object', name='title')"
      ]
     },
     "execution_count": 21,
     "metadata": {},
     "output_type": "execute_result"
    }
   ],
   "source": [
    "title_likes.head(1).index"
   ]
  },
  {
   "cell_type": "code",
   "execution_count": 22,
   "id": "f94041a3",
   "metadata": {
    "ExecuteTime": {
     "end_time": "2023-11-10T12:48:12.672980Z",
     "start_time": "2023-11-10T12:48:12.659716Z"
    }
   },
   "outputs": [
    {
     "data": {
      "text/plain": [
       "Index(['Leading the Charge | Circle K'], dtype='object', name='title')"
      ]
     },
     "execution_count": 22,
     "metadata": {},
     "output_type": "execute_result"
    }
   ],
   "source": [
    "title_likes.tail(1).index "
   ]
  },
  {
   "cell_type": "markdown",
   "id": "ed1fd992",
   "metadata": {},
   "source": [
    "***<b><font>Findings:***\n",
    "    \n",
    "<b><font color= \"green\">~ The title of the video which has the maximum number of likes is:\"BTS () 'Dynamite' Official MV\" with '31837675'  likes </font></b>\n",
    "\n",
    "<b><font color= \"green\">~ The title of the video which has the minimum number of likes is:\"Leading the Charge | Circle K\" with '22'  likes </font></b> "
   ]
  },
  {
   "cell_type": "markdown",
   "id": "bccc4c46",
   "metadata": {},
   "source": [
    "# <span style=\" font-family: 'Times New Roman', Times, serif;\"> 12. Find the title of the video which has the maximum number of dislikes and the title of the video having minimum dislikes and write your inferences. "
   ]
  },
  {
   "cell_type": "code",
   "execution_count": 23,
   "id": "6a220dd3",
   "metadata": {
    "ExecuteTime": {
     "end_time": "2023-11-10T12:48:12.801720Z",
     "start_time": "2023-11-10T12:48:12.684238Z"
    }
   },
   "outputs": [
    {
     "data": {
      "text/plain": [
       "title\n",
       "Cuties | Official Trailer | Netflix                                                                 2397733\n",
       "BTS () 'Dynamite' Official MV                                                                       1814333\n",
       "Cardi B - WAP feat. Megan Thee Stallion [Official Music Video]                                      1331181\n",
       "52 GAJ KA DAMAN | PRANJAL DAHIYA | AMAN JAJI | RENUKA PANWAR  | MUKESH JAJI | SAHIL SANDHU          1259533\n",
       "BLACKPINK - 'Ice Cream (with Selena Gomez)' M/V                                                     1253187\n",
       "                                                                                                     ...   \n",
       "Leicester v Gloucester | Wigglesworth Impresses on Leicester Debut | Gallagher Premiership Rugby          7\n",
       "YONEX Thailand Open | Day 3: Saina Nehwal (IND) vs. Busanan Ongbamrungphan (THA)                          7\n",
       "Leeds Rhinos vs Wakefield Trinity | Super League Full Match                                               6\n",
       "Live Stream: Hampshire v Yorkshire - LV= County Championship, Day Four                                    4\n",
       "Tims For Good: A Taste Of The Familiar                                                                    3\n",
       "Name: dislikes, Length: 36958, dtype: int64"
      ]
     },
     "execution_count": 23,
     "metadata": {},
     "output_type": "execute_result"
    }
   ],
   "source": [
    "#using groupby to group the title of the video and aggregating the sum of dislikes for the particular channel_title\n",
    "#we can also use pivot tables to do the same\n",
    "title_dislikes=df.groupby('title')['dislikes'].sum().sort_values(ascending=False)\n",
    "title_dislikes "
   ]
  },
  {
   "cell_type": "code",
   "execution_count": 24,
   "id": "5bc31a62",
   "metadata": {
    "ExecuteTime": {
     "end_time": "2023-11-10T12:48:12.816095Z",
     "start_time": "2023-11-10T12:48:12.805722Z"
    }
   },
   "outputs": [
    {
     "data": {
      "text/plain": [
       "Index(['Cuties | Official Trailer | Netflix'], dtype='object', name='title')"
      ]
     },
     "execution_count": 24,
     "metadata": {},
     "output_type": "execute_result"
    }
   ],
   "source": [
    "title_dislikes.head(1).index "
   ]
  },
  {
   "cell_type": "code",
   "execution_count": 25,
   "id": "51c037ed",
   "metadata": {
    "ExecuteTime": {
     "end_time": "2023-11-10T12:48:12.832949Z",
     "start_time": "2023-11-10T12:48:12.820100Z"
    }
   },
   "outputs": [
    {
     "data": {
      "text/plain": [
       "Index(['Tims For Good: A Taste Of The Familiar'], dtype='object', name='title')"
      ]
     },
     "execution_count": 25,
     "metadata": {},
     "output_type": "execute_result"
    }
   ],
   "source": [
    "title_dislikes.tail(1).index "
   ]
  },
  {
   "cell_type": "markdown",
   "id": "84e8133b",
   "metadata": {},
   "source": [
    "***<b><font>Findings:***\n",
    "    \n",
    "<b><font color= \"green\">~ The title of the video which has the maximum number of dislikes is:\"Cuties | Official Trailer | Netflix\" with '2397733'  dislikes </font></b>\n",
    "\n",
    "<b><font color= \"green\">~ The title of the video which has the minimum number of dislikes is:\"Tims For Good: A Taste Of The Familiar\" with '3'  dislikes </font></b> "
   ]
  },
  {
   "cell_type": "markdown",
   "id": "6d520ab7",
   "metadata": {},
   "source": [
    "# <span style=\" font-family: 'Times New Roman', Times, serif;\"> 13. Does the number of views have any effect on how many people disliked the video? Support your answer with a metric and a plot. \n"
   ]
  },
  {
   "cell_type": "code",
   "execution_count": 26,
   "id": "e4ea0cff",
   "metadata": {
    "ExecuteTime": {
     "end_time": "2023-11-10T12:48:12.872060Z",
     "start_time": "2023-11-10T12:48:12.840951Z"
    }
   },
   "outputs": [
    {
     "data": {
      "text/html": [
       "<div>\n",
       "<style scoped>\n",
       "    .dataframe tbody tr th:only-of-type {\n",
       "        vertical-align: middle;\n",
       "    }\n",
       "\n",
       "    .dataframe tbody tr th {\n",
       "        vertical-align: top;\n",
       "    }\n",
       "\n",
       "    .dataframe thead th {\n",
       "        text-align: right;\n",
       "    }\n",
       "</style>\n",
       "<table border=\"1\" class=\"dataframe\">\n",
       "  <thead>\n",
       "    <tr style=\"text-align: right;\">\n",
       "      <th></th>\n",
       "      <th>view_count</th>\n",
       "      <th>dislikes</th>\n",
       "    </tr>\n",
       "  </thead>\n",
       "  <tbody>\n",
       "    <tr>\n",
       "      <th>view_count</th>\n",
       "      <td>1.000000</td>\n",
       "      <td>0.684576</td>\n",
       "    </tr>\n",
       "    <tr>\n",
       "      <th>dislikes</th>\n",
       "      <td>0.684576</td>\n",
       "      <td>1.000000</td>\n",
       "    </tr>\n",
       "  </tbody>\n",
       "</table>\n",
       "</div>"
      ],
      "text/plain": [
       "            view_count  dislikes\n",
       "view_count    1.000000  0.684576\n",
       "dislikes      0.684576  1.000000"
      ]
     },
     "execution_count": 26,
     "metadata": {},
     "output_type": "execute_result"
    }
   ],
   "source": [
    "#Creating correlation matrix to find out corrlation between view_count and dislikes using .corr()\n",
    "df[[\"view_count\",\"dislikes\"]].corr() "
   ]
  },
  {
   "cell_type": "code",
   "execution_count": 27,
   "id": "6f13b902",
   "metadata": {
    "ExecuteTime": {
     "end_time": "2023-11-10T12:48:17.556717Z",
     "start_time": "2023-11-10T12:48:12.899286Z"
    },
    "scrolled": true
   },
   "outputs": [
    {
     "data": {
      "image/png": "[encoded data removed]",
      "text/plain": [
       "<Figure size 1000x500 with 1 Axes>"
      ]
     },
     "metadata": {},
     "output_type": "display_data"
    }
   ],
   "source": [
    "plt.figure(figsize=(10, 5)) \n",
    "sns.scatterplot(data=df,x='view_count',y='dislikes')\n",
    "sns.regplot(data=df, x='view_count', y='dislikes', scatter=False, color='red', line_kws={'linewidth': 2})\n",
    "plt.title('Relationship between View_count and Dislikes')\n",
    "plt.show() "
   ]
  },
  {
   "cell_type": "markdown",
   "id": "14f356f9",
   "metadata": {},
   "source": [
    "***<b><font>Findings:***\n",
    "    \n",
    "<b><font color= \"green\">~  From the correlation matrix we can see that there is positive correlation of .68 between \"views\" and \"dislikes\".</font></b>\n",
    "    \n",
    "<b><font color= \"green\">~ Also from scatter plot trendline we can clearly see a positive correlation between these two variables. Although the relation is positive but the correlation is not too high (its low). We can say that there is effect of number of views on dislikes (however not too much) . </font></b>\n"
   ]
  },
  {
   "cell_type": "markdown",
   "id": "2a8023a8",
   "metadata": {},
   "source": [
    "# <span style=\" font-family: 'Times New Roman', Times, serif;\"> 14. Display all the information about the videos that were published in January, and mention the count of videos that were published in January."
   ]
  },
  {
   "cell_type": "code",
   "execution_count": 28,
   "id": "2a8a39cc",
   "metadata": {
    "ExecuteTime": {
     "end_time": "2023-11-10T12:48:17.618343Z",
     "start_time": "2023-11-10T12:48:17.556717Z"
    }
   },
   "outputs": [
    {
     "data": {
      "text/html": [
       "<div>\n",
       "<style scoped>\n",
       "    .dataframe tbody tr th:only-of-type {\n",
       "        vertical-align: middle;\n",
       "    }\n",
       "\n",
       "    .dataframe tbody tr th {\n",
       "        vertical-align: top;\n",
       "    }\n",
       "\n",
       "    .dataframe thead th {\n",
       "        text-align: right;\n",
       "    }\n",
       "</style>\n",
       "<table border=\"1\" class=\"dataframe\">\n",
       "  <thead>\n",
       "    <tr style=\"text-align: right;\">\n",
       "      <th></th>\n",
       "      <th>video_id</th>\n",
       "      <th>title</th>\n",
       "      <th>channel_id</th>\n",
       "      <th>channel_title</th>\n",
       "      <th>published_at</th>\n",
       "      <th>view_count</th>\n",
       "      <th>likes</th>\n",
       "      <th>dislikes</th>\n",
       "      <th>comment_count</th>\n",
       "      <th>tags</th>\n",
       "      <th>description</th>\n",
       "      <th>comments</th>\n",
       "      <th>published_month</th>\n",
       "    </tr>\n",
       "  </thead>\n",
       "  <tbody>\n",
       "    <tr>\n",
       "      <th>27</th>\n",
       "      <td>-2Gwm7QfBnE</td>\n",
       "      <td>Q&amp;A With Naisha</td>\n",
       "      <td>UCYwNMbogQFzMccPSuy-pPWg</td>\n",
       "      <td>MianTwins</td>\n",
       "      <td>2021-01-21 00:05:47</td>\n",
       "      <td>872372</td>\n",
       "      <td>38626</td>\n",
       "      <td>239</td>\n",
       "      <td>621</td>\n",
       "      <td></td>\n",
       "      <td>Hey Guys!!! this has been the most requested v...</td>\n",
       "      <td>I feel like Nate and Aishas personality match ...</td>\n",
       "      <td>Jan</td>\n",
       "    </tr>\n",
       "    <tr>\n",
       "      <th>48</th>\n",
       "      <td>-4sfXSHSxzA</td>\n",
       "      <td>SURPRISING BRENT WITH HIS TIKTOK CRUSH!!</td>\n",
       "      <td>UCPpATKqmMV-CNRNWYaDUwiA</td>\n",
       "      <td>Alexa Rivera</td>\n",
       "      <td>2021-01-16 21:40:04</td>\n",
       "      <td>6504784</td>\n",
       "      <td>262477</td>\n",
       "      <td>5779</td>\n",
       "      <td>7907</td>\n",
       "      <td></td>\n",
       "      <td>He had no idea! Thank you guys so much for wat...</td>\n",
       "      <td>Thank you guys for watching and don't forget t...</td>\n",
       "      <td>Jan</td>\n",
       "    </tr>\n",
       "    <tr>\n",
       "      <th>95</th>\n",
       "      <td>-AJD1Fc5rpQ</td>\n",
       "      <td>WE ARE HAVING A BABY! | finding out i'm pregna...</td>\n",
       "      <td>UCVsTboAhpnuL6j-tDePvNwQ</td>\n",
       "      <td>Tess Christine</td>\n",
       "      <td>2021-01-03 21:53:48</td>\n",
       "      <td>533084</td>\n",
       "      <td>38965</td>\n",
       "      <td>119</td>\n",
       "      <td>1650</td>\n",
       "      <td></td>\n",
       "      <td>I am so happy to tell you that I am pregnant!!...</td>\n",
       "      <td>Okay I needed a moment to collect my thoughts ...</td>\n",
       "      <td>Jan</td>\n",
       "    </tr>\n",
       "    <tr>\n",
       "      <th>103</th>\n",
       "      <td>-AuJiwjsmWk</td>\n",
       "      <td>Do Ugly Foods Taste Worse? Taste Test</td>\n",
       "      <td>UCzpCc5n9hqiVC7HhPwcIKEg</td>\n",
       "      <td>Good Mythical MORE</td>\n",
       "      <td>2021-01-19 11:00:01</td>\n",
       "      <td>1057077</td>\n",
       "      <td>22526</td>\n",
       "      <td>531</td>\n",
       "      <td>773</td>\n",
       "      <td>gmm good mythical morning rhettandlink rhett a...</td>\n",
       "      <td>Today, we're doing a blind taste test to deter...</td>\n",
       "      <td>\"there's nothing wrong with it being bent\"\\nI ...</td>\n",
       "      <td>Jan</td>\n",
       "    </tr>\n",
       "    <tr>\n",
       "      <th>182</th>\n",
       "      <td>-JhqO2KWr5U</td>\n",
       "      <td>Schlatt gets fit</td>\n",
       "      <td>UCWZp4y1jqBuvLtiyxSs_ZBw</td>\n",
       "      <td>Big guy</td>\n",
       "      <td>2021-01-24 22:50:57</td>\n",
       "      <td>1724965</td>\n",
       "      <td>119431</td>\n",
       "      <td>325</td>\n",
       "      <td>1578</td>\n",
       "      <td>jschlatt big guy jschlatt highlights schlatt j...</td>\n",
       "      <td>#jschlatt #schlatt #bigguy #short</td>\n",
       "      <td>Schlatt is single handedly wiping out all the ...</td>\n",
       "      <td>Jan</td>\n",
       "    </tr>\n",
       "    <tr>\n",
       "      <th>...</th>\n",
       "      <td>...</td>\n",
       "      <td>...</td>\n",
       "      <td>...</td>\n",
       "      <td>...</td>\n",
       "      <td>...</td>\n",
       "      <td>...</td>\n",
       "      <td>...</td>\n",
       "      <td>...</td>\n",
       "      <td>...</td>\n",
       "      <td>...</td>\n",
       "      <td>...</td>\n",
       "      <td>...</td>\n",
       "      <td>...</td>\n",
       "    </tr>\n",
       "    <tr>\n",
       "      <th>37300</th>\n",
       "      <td>zmzFL5bG-jc</td>\n",
       "      <td>DEVINE MON PERSONNAGE AVANT AKINATOR ! (c'est ...</td>\n",
       "      <td>UCIlr3byh6wmXgcPx_Tm9Ocw</td>\n",
       "      <td>Piwerre</td>\n",
       "      <td>2021-01-16 16:12:19</td>\n",
       "      <td>670357</td>\n",
       "      <td>54462</td>\n",
       "      <td>832</td>\n",
       "      <td>1249</td>\n",
       "      <td>Piwerre frere de michou crouton among us devin...</td>\n",
       "      <td>Discord Piwerre : https://discord.gg/QBduPgAA...</td>\n",
       "      <td>Mdr michou quand c'est pas ses tournage il fou...</td>\n",
       "      <td>Jan</td>\n",
       "    </tr>\n",
       "    <tr>\n",
       "      <th>37329</th>\n",
       "      <td>zpzjex7qwrA</td>\n",
       "      <td>Lampard Sacked Within Days Rorys Misery | Chel...</td>\n",
       "      <td>UCkD-ZOixI0a9FjIExDsHsbg</td>\n",
       "      <td>The Kick Off</td>\n",
       "      <td>2021-01-03 20:13:49</td>\n",
       "      <td>428646</td>\n",
       "      <td>12060</td>\n",
       "      <td>296</td>\n",
       "      <td>1505</td>\n",
       "      <td>Premier league Chelsea chelsea 1-3 Man City Ch...</td>\n",
       "      <td>The Kick Off watched Manchester City destroy C...</td>\n",
       "      <td>True Its like a fighter who Geordie But I thou...</td>\n",
       "      <td>Jan</td>\n",
       "    </tr>\n",
       "    <tr>\n",
       "      <th>37345</th>\n",
       "      <td>zqyv-B6mnBM</td>\n",
       "      <td>Lil Wayne - Ain't Got Time (Audio)</td>\n",
       "      <td>UCO9zJy7HWrIS3ojB4Lr7Yqw</td>\n",
       "      <td>Lil Wayne</td>\n",
       "      <td>2021-01-21 05:00:10</td>\n",
       "      <td>2238244</td>\n",
       "      <td>58925</td>\n",
       "      <td>2365</td>\n",
       "      <td>5539</td>\n",
       "      <td>lil wayne weezy weezy wednesday wayne carter y...</td>\n",
       "      <td>Official audio for Lil Wayne \"Ain't Got Time\",...</td>\n",
       "      <td>RIP Juice Wrld, wrote that on two cups, pour o...</td>\n",
       "      <td>Jan</td>\n",
       "    </tr>\n",
       "    <tr>\n",
       "      <th>37383</th>\n",
       "      <td>zwfu1-24T7Q</td>\n",
       "      <td>PRADA Cup Day 1 | Full Race Replay | PRADA Cup...</td>\n",
       "      <td>UCo15ZYO_XDRU9LI30OPtxAg</td>\n",
       "      <td>America's Cup</td>\n",
       "      <td>2021-01-15 04:07:55</td>\n",
       "      <td>317382</td>\n",
       "      <td>2008</td>\n",
       "      <td>83</td>\n",
       "      <td>192</td>\n",
       "      <td>America's Cup Americas Cup AC36 AC75 Presented...</td>\n",
       "      <td>The opening day of the PRADA Cup in Auckland, ...</td>\n",
       "      <td>Incredible how these boats evolve in a short t...</td>\n",
       "      <td>Jan</td>\n",
       "    </tr>\n",
       "    <tr>\n",
       "      <th>37418</th>\n",
       "      <td>zziBybeSAtw</td>\n",
       "      <td>PELICANS at LAKERS | FULL GAME HIGHLIGHTS | Ja...</td>\n",
       "      <td>UCWJ2lWNubArHWmf3FIHbfcQ</td>\n",
       "      <td>NBA</td>\n",
       "      <td>2021-01-16 05:39:05</td>\n",
       "      <td>2841917</td>\n",
       "      <td>20759</td>\n",
       "      <td>1049</td>\n",
       "      <td>2624</td>\n",
       "      <td>NBA G League Basketball game-0022000187 Lakers...</td>\n",
       "      <td>PELICANS at LAKERS | FULL GAME HIGHLIGHTS | Ja...</td>\n",
       "      <td>Montrezl Harrell is going crazy with the rebou...</td>\n",
       "      <td>Jan</td>\n",
       "    </tr>\n",
       "  </tbody>\n",
       "</table>\n",
       "<p>2099 rows × 13 columns</p>\n",
       "</div>"
      ],
      "text/plain": [
       "          video_id                                              title  \\\n",
       "27     -2Gwm7QfBnE                                    Q&A With Naisha   \n",
       "48     -4sfXSHSxzA           SURPRISING BRENT WITH HIS TIKTOK CRUSH!!   \n",
       "95     -AJD1Fc5rpQ  WE ARE HAVING A BABY! | finding out i'm pregna...   \n",
       "103    -AuJiwjsmWk              Do Ugly Foods Taste Worse? Taste Test   \n",
       "182    -JhqO2KWr5U                                   Schlatt gets fit   \n",
       "...            ...                                                ...   \n",
       "37300  zmzFL5bG-jc  DEVINE MON PERSONNAGE AVANT AKINATOR ! (c'est ...   \n",
       "37329  zpzjex7qwrA  Lampard Sacked Within Days Rorys Misery | Chel...   \n",
       "37345  zqyv-B6mnBM                 Lil Wayne - Ain't Got Time (Audio)   \n",
       "37383  zwfu1-24T7Q  PRADA Cup Day 1 | Full Race Replay | PRADA Cup...   \n",
       "37418  zziBybeSAtw  PELICANS at LAKERS | FULL GAME HIGHLIGHTS | Ja...   \n",
       "\n",
       "                     channel_id       channel_title        published_at  \\\n",
       "27     UCYwNMbogQFzMccPSuy-pPWg           MianTwins 2021-01-21 00:05:47   \n",
       "48     UCPpATKqmMV-CNRNWYaDUwiA        Alexa Rivera 2021-01-16 21:40:04   \n",
       "95     UCVsTboAhpnuL6j-tDePvNwQ      Tess Christine 2021-01-03 21:53:48   \n",
       "103    UCzpCc5n9hqiVC7HhPwcIKEg  Good Mythical MORE 2021-01-19 11:00:01   \n",
       "182    UCWZp4y1jqBuvLtiyxSs_ZBw             Big guy 2021-01-24 22:50:57   \n",
       "...                         ...                 ...                 ...   \n",
       "37300  UCIlr3byh6wmXgcPx_Tm9Ocw             Piwerre 2021-01-16 16:12:19   \n",
       "37329  UCkD-ZOixI0a9FjIExDsHsbg        The Kick Off 2021-01-03 20:13:49   \n",
       "37345  UCO9zJy7HWrIS3ojB4Lr7Yqw           Lil Wayne 2021-01-21 05:00:10   \n",
       "37383  UCo15ZYO_XDRU9LI30OPtxAg       America's Cup 2021-01-15 04:07:55   \n",
       "37418  UCWJ2lWNubArHWmf3FIHbfcQ                 NBA 2021-01-16 05:39:05   \n",
       "\n",
       "       view_count   likes  dislikes  comment_count  \\\n",
       "27         872372   38626       239            621   \n",
       "48        6504784  262477      5779           7907   \n",
       "95         533084   38965       119           1650   \n",
       "103       1057077   22526       531            773   \n",
       "182       1724965  119431       325           1578   \n",
       "...           ...     ...       ...            ...   \n",
       "37300      670357   54462       832           1249   \n",
       "37329      428646   12060       296           1505   \n",
       "37345     2238244   58925      2365           5539   \n",
       "37383      317382    2008        83            192   \n",
       "37418     2841917   20759      1049           2624   \n",
       "\n",
       "                                                    tags  \\\n",
       "27                                                         \n",
       "48                                                         \n",
       "95                                                         \n",
       "103    gmm good mythical morning rhettandlink rhett a...   \n",
       "182    jschlatt big guy jschlatt highlights schlatt j...   \n",
       "...                                                  ...   \n",
       "37300  Piwerre frere de michou crouton among us devin...   \n",
       "37329  Premier league Chelsea chelsea 1-3 Man City Ch...   \n",
       "37345  lil wayne weezy weezy wednesday wayne carter y...   \n",
       "37383  America's Cup Americas Cup AC36 AC75 Presented...   \n",
       "37418  NBA G League Basketball game-0022000187 Lakers...   \n",
       "\n",
       "                                             description  \\\n",
       "27     Hey Guys!!! this has been the most requested v...   \n",
       "48     He had no idea! Thank you guys so much for wat...   \n",
       "95     I am so happy to tell you that I am pregnant!!...   \n",
       "103    Today, we're doing a blind taste test to deter...   \n",
       "182                    #jschlatt #schlatt #bigguy #short   \n",
       "...                                                  ...   \n",
       "37300   Discord Piwerre : https://discord.gg/QBduPgAA...   \n",
       "37329  The Kick Off watched Manchester City destroy C...   \n",
       "37345  Official audio for Lil Wayne \"Ain't Got Time\",...   \n",
       "37383  The opening day of the PRADA Cup in Auckland, ...   \n",
       "37418  PELICANS at LAKERS | FULL GAME HIGHLIGHTS | Ja...   \n",
       "\n",
       "                                                comments published_month  \n",
       "27     I feel like Nate and Aishas personality match ...             Jan  \n",
       "48     Thank you guys for watching and don't forget t...             Jan  \n",
       "95     Okay I needed a moment to collect my thoughts ...             Jan  \n",
       "103    \"there's nothing wrong with it being bent\"\\nI ...             Jan  \n",
       "182    Schlatt is single handedly wiping out all the ...             Jan  \n",
       "...                                                  ...             ...  \n",
       "37300  Mdr michou quand c'est pas ses tournage il fou...             Jan  \n",
       "37329  True Its like a fighter who Geordie But I thou...             Jan  \n",
       "37345  RIP Juice Wrld, wrote that on two cups, pour o...             Jan  \n",
       "37383  Incredible how these boats evolve in a short t...             Jan  \n",
       "37418  Montrezl Harrell is going crazy with the rebou...             Jan  \n",
       "\n",
       "[2099 rows x 13 columns]"
      ]
     },
     "execution_count": 28,
     "metadata": {},
     "output_type": "execute_result"
    }
   ],
   "source": [
    "#With this query we can extract the videos that were published in the month of January \n",
    "#we can also use slicers to do the same df[df[\"published_month\"]==\"Jan\"]\n",
    "df.query('published_month == \"Jan\" ')"
   ]
  },
  {
   "cell_type": "code",
   "execution_count": 29,
   "id": "66aadeb0",
   "metadata": {
    "ExecuteTime": {
     "end_time": "2023-11-10T12:48:17.653293Z",
     "start_time": "2023-11-10T12:48:17.626249Z"
    }
   },
   "outputs": [
    {
     "data": {
      "text/plain": [
       "2099"
      ]
     },
     "execution_count": 29,
     "metadata": {},
     "output_type": "execute_result"
    }
   ],
   "source": [
    "#using the nunique() method to count the unique video_id published in the month of January\n",
    "Jan_vid=df.query('published_month == \"Jan\" ')\n",
    "Jan_vid['video_id'].nunique()"
   ]
  },
  {
   "cell_type": "markdown",
   "id": "c02d73dc",
   "metadata": {},
   "source": [
    "***<b><font>Findings:***\n",
    "    \n",
    "<b><font color= \"green\">~  In January 2099 videos were published .</font></b>\n",
    "    "
   ]
  },
  {
   "cell_type": "markdown",
   "id": "3960ab29",
   "metadata": {},
   "source": [
    "# <center><span style=\" font-family: 'Times New Roman', Times, serif;\"><b><font color= \"Red\">End of Project "
   ]
  }
 ],
 "metadata": {
  "kernelspec": {
   "display_name": "Python 3 (ipykernel)",
   "language": "python",
   "name": "python3"
  },
  "language_info": {
   "codemirror_mode": {
    "name": "ipython",
    "version": 3
   },
   "file_extension": ".py",
   "mimetype": "text/x-python",
   "name": "python",
   "nbconvert_exporter": "python",
   "pygments_lexer": "ipython3",
   "version": "3.11.5"
  },
  "varInspector": {
   "cols": {
    "lenName": 16,
    "lenType": 16,
    "lenVar": 40
   },
   "kernels_config": {
    "python": {
     "delete_cmd_postfix": "",
     "delete_cmd_prefix": "del ",
     "library": "var_list.py",
     "varRefreshCmd": "print(var_dic_list())"
    },
    "r": {
     "delete_cmd_postfix": ") ",
     "delete_cmd_prefix": "rm(",
     "library": "var_list.r",
     "varRefreshCmd": "cat(var_dic_list()) "
    }
   },
   "types_to_exclude": [
    "module",
    "function",
    "builtin_function_or_method",
    "instance",
    "_Feature"
   ],
   "window_display": false
  }
 },
 "nbformat": 4,
 "nbformat_minor": 5
}
